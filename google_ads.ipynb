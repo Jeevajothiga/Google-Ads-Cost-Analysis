{
 "cells": [
  {
   "cell_type": "code",
   "execution_count": 1,
   "metadata": {},
   "outputs": [],
   "source": [
    "import pandas as pd"
   ]
  },
  {
   "cell_type": "code",
   "execution_count": null,
   "metadata": {},
   "outputs": [],
   "source": [
    "df = pd.read_csv(\"google_ads_data.csv\")\n",
    "#load dataset"
   ]
  },
  {
   "cell_type": "code",
   "execution_count": null,
   "metadata": {},
   "outputs": [
    {
     "data": {
      "text/html": [
       "<div>\n",
       "<style scoped>\n",
       "    .dataframe tbody tr th:only-of-type {\n",
       "        vertical-align: middle;\n",
       "    }\n",
       "\n",
       "    .dataframe tbody tr th {\n",
       "        vertical-align: top;\n",
       "    }\n",
       "\n",
       "    .dataframe thead th {\n",
       "        text-align: right;\n",
       "    }\n",
       "</style>\n",
       "<table border=\"1\" class=\"dataframe\">\n",
       "  <thead>\n",
       "    <tr style=\"text-align: right;\">\n",
       "      <th></th>\n",
       "      <th>ad_type</th>\n",
       "      <th>impressions</th>\n",
       "      <th>spend_usd</th>\n",
       "      <th>geo_targeting_included</th>\n",
       "    </tr>\n",
       "  </thead>\n",
       "  <tbody>\n",
       "    <tr>\n",
       "      <th>0</th>\n",
       "      <td>Video</td>\n",
       "      <td>&lt;=10k</td>\n",
       "      <td>100-1k</td>\n",
       "      <td>Alaska</td>\n",
       "    </tr>\n",
       "    <tr>\n",
       "      <th>1</th>\n",
       "      <td>Image</td>\n",
       "      <td>10k-100k</td>\n",
       "      <td>100-1k</td>\n",
       "      <td>Nebraska</td>\n",
       "    </tr>\n",
       "    <tr>\n",
       "      <th>2</th>\n",
       "      <td>Image</td>\n",
       "      <td>100k-1M</td>\n",
       "      <td>100-1k</td>\n",
       "      <td>Nebraska</td>\n",
       "    </tr>\n",
       "    <tr>\n",
       "      <th>3</th>\n",
       "      <td>Text</td>\n",
       "      <td>10k-100k</td>\n",
       "      <td>100-1k</td>\n",
       "      <td>Oregon</td>\n",
       "    </tr>\n",
       "    <tr>\n",
       "      <th>4</th>\n",
       "      <td>Image</td>\n",
       "      <td>100k-1M</td>\n",
       "      <td>100-1k</td>\n",
       "      <td>Idaho</td>\n",
       "    </tr>\n",
       "  </tbody>\n",
       "</table>\n",
       "</div>"
      ],
      "text/plain": [
       "  ad_type impressions spend_usd geo_targeting_included\n",
       "0   Video       <=10k    100-1k                 Alaska\n",
       "1   Image    10k-100k    100-1k               Nebraska\n",
       "2   Image     100k-1M    100-1k               Nebraska\n",
       "3    Text    10k-100k    100-1k                 Oregon\n",
       "4   Image     100k-1M    100-1k                  Idaho"
      ]
     },
     "execution_count": 3,
     "metadata": {},
     "output_type": "execute_result"
    }
   ],
   "source": [
    "df.head()\n",
    "#display first 5 rows"
   ]
  },
  {
   "cell_type": "code",
   "execution_count": null,
   "metadata": {},
   "outputs": [
    {
     "name": "stdout",
     "output_type": "stream",
     "text": [
      "<class 'pandas.core.frame.DataFrame'>\n",
      "RangeIndex: 164998 entries, 0 to 164997\n",
      "Data columns (total 4 columns):\n",
      " #   Column                  Non-Null Count   Dtype \n",
      "---  ------                  --------------   ----- \n",
      " 0   ad_type                 164998 non-null  object\n",
      " 1   impressions             164998 non-null  object\n",
      " 2   spend_usd               164998 non-null  object\n",
      " 3   geo_targeting_included  164998 non-null  object\n",
      "dtypes: object(4)\n",
      "memory usage: 5.0+ MB\n"
     ]
    }
   ],
   "source": [
    "df.info()\n",
    "#displaying columns"
   ]
  },
  {
   "cell_type": "code",
   "execution_count": null,
   "metadata": {},
   "outputs": [
    {
     "data": {
      "text/html": [
       "<div>\n",
       "<style scoped>\n",
       "    .dataframe tbody tr th:only-of-type {\n",
       "        vertical-align: middle;\n",
       "    }\n",
       "\n",
       "    .dataframe tbody tr th {\n",
       "        vertical-align: top;\n",
       "    }\n",
       "\n",
       "    .dataframe thead th {\n",
       "        text-align: right;\n",
       "    }\n",
       "</style>\n",
       "<table border=\"1\" class=\"dataframe\">\n",
       "  <thead>\n",
       "    <tr style=\"text-align: right;\">\n",
       "      <th></th>\n",
       "      <th>ad_type</th>\n",
       "      <th>impressions</th>\n",
       "      <th>spend_usd</th>\n",
       "      <th>geo_targeting_included</th>\n",
       "    </tr>\n",
       "  </thead>\n",
       "  <tbody>\n",
       "    <tr>\n",
       "      <th>count</th>\n",
       "      <td>164998</td>\n",
       "      <td>164998</td>\n",
       "      <td>164998</td>\n",
       "      <td>164998</td>\n",
       "    </tr>\n",
       "    <tr>\n",
       "      <th>unique</th>\n",
       "      <td>3</td>\n",
       "      <td>5</td>\n",
       "      <td>5</td>\n",
       "      <td>50</td>\n",
       "    </tr>\n",
       "    <tr>\n",
       "      <th>top</th>\n",
       "      <td>Video</td>\n",
       "      <td>&lt;=10k</td>\n",
       "      <td>&lt;100</td>\n",
       "      <td>Arizona</td>\n",
       "    </tr>\n",
       "    <tr>\n",
       "      <th>freq</th>\n",
       "      <td>79098</td>\n",
       "      <td>105836</td>\n",
       "      <td>94878</td>\n",
       "      <td>12763</td>\n",
       "    </tr>\n",
       "  </tbody>\n",
       "</table>\n",
       "</div>"
      ],
      "text/plain": [
       "       ad_type impressions spend_usd geo_targeting_included\n",
       "count   164998      164998    164998                 164998\n",
       "unique       3           5         5                     50\n",
       "top      Video       <=10k      <100                Arizona\n",
       "freq     79098      105836     94878                  12763"
      ]
     },
     "execution_count": 5,
     "metadata": {},
     "output_type": "execute_result"
    }
   ],
   "source": [
    "df.describe()\n",
    "#summary of statistics"
   ]
  },
  {
   "cell_type": "code",
   "execution_count": 6,
   "metadata": {},
   "outputs": [
    {
     "data": {
      "text/plain": [
       "ad_type                   0\n",
       "impressions               0\n",
       "spend_usd                 0\n",
       "geo_targeting_included    0\n",
       "dtype: int64"
      ]
     },
     "execution_count": 6,
     "metadata": {},
     "output_type": "execute_result"
    }
   ],
   "source": [
    "df.isnull().sum()\n",
    "#check for nulls"
   ]
  },
  {
   "cell_type": "code",
   "execution_count": 7,
   "metadata": {},
   "outputs": [],
   "source": [
    "df.drop_duplicates(inplace=True)"
   ]
  },
  {
   "cell_type": "code",
   "execution_count": 11,
   "metadata": {},
   "outputs": [],
   "source": [
    "# Remove non-numeric characters and convert to integer\n",
    "df[\"impressions\"] = df[\"impressions\"].str.replace(r\"[^\\d]\", \"\", regex=True).astype(int)\n"
   ]
  },
  {
   "cell_type": "code",
   "execution_count": null,
   "metadata": {},
   "outputs": [
    {
     "name": "stdout",
     "output_type": "stream",
     "text": [
      "int64\n"
     ]
    },
    {
     "data": {
      "text/html": [
       "<div>\n",
       "<style scoped>\n",
       "    .dataframe tbody tr th:only-of-type {\n",
       "        vertical-align: middle;\n",
       "    }\n",
       "\n",
       "    .dataframe tbody tr th {\n",
       "        vertical-align: top;\n",
       "    }\n",
       "\n",
       "    .dataframe thead th {\n",
       "        text-align: right;\n",
       "    }\n",
       "</style>\n",
       "<table border=\"1\" class=\"dataframe\">\n",
       "  <thead>\n",
       "    <tr style=\"text-align: right;\">\n",
       "      <th></th>\n",
       "      <th>ad_type</th>\n",
       "      <th>impressions</th>\n",
       "      <th>spend_usd</th>\n",
       "      <th>geo_targeting_included</th>\n",
       "    </tr>\n",
       "  </thead>\n",
       "  <tbody>\n",
       "    <tr>\n",
       "      <th>0</th>\n",
       "      <td>Video</td>\n",
       "      <td>10</td>\n",
       "      <td>100-1k</td>\n",
       "      <td>Alaska</td>\n",
       "    </tr>\n",
       "    <tr>\n",
       "      <th>1</th>\n",
       "      <td>Image</td>\n",
       "      <td>10100</td>\n",
       "      <td>100-1k</td>\n",
       "      <td>Nebraska</td>\n",
       "    </tr>\n",
       "    <tr>\n",
       "      <th>2</th>\n",
       "      <td>Image</td>\n",
       "      <td>1001</td>\n",
       "      <td>100-1k</td>\n",
       "      <td>Nebraska</td>\n",
       "    </tr>\n",
       "    <tr>\n",
       "      <th>3</th>\n",
       "      <td>Text</td>\n",
       "      <td>10100</td>\n",
       "      <td>100-1k</td>\n",
       "      <td>Oregon</td>\n",
       "    </tr>\n",
       "    <tr>\n",
       "      <th>4</th>\n",
       "      <td>Image</td>\n",
       "      <td>1001</td>\n",
       "      <td>100-1k</td>\n",
       "      <td>Idaho</td>\n",
       "    </tr>\n",
       "  </tbody>\n",
       "</table>\n",
       "</div>"
      ],
      "text/plain": [
       "  ad_type  impressions spend_usd geo_targeting_included\n",
       "0   Video           10    100-1k                 Alaska\n",
       "1   Image        10100    100-1k               Nebraska\n",
       "2   Image         1001    100-1k               Nebraska\n",
       "3    Text        10100    100-1k                 Oregon\n",
       "4   Image         1001    100-1k                  Idaho"
      ]
     },
     "execution_count": 12,
     "metadata": {},
     "output_type": "execute_result"
    }
   ],
   "source": []
  },
  {
   "cell_type": "code",
   "execution_count": 15,
   "metadata": {},
   "outputs": [
    {
     "name": "stdout",
     "output_type": "stream",
     "text": [
      "ad_type                   object\n",
      "impressions                int64\n",
      "spend_usd                 object\n",
      "geo_targeting_included    object\n",
      "dtype: object\n"
     ]
    }
   ],
   "source": [
    "print(df.dtypes)  # Should show \"int64\" for impressions and \"float64\" for spend_usd\n"
   ]
  },
  {
   "cell_type": "code",
   "execution_count": 18,
   "metadata": {},
   "outputs": [
    {
     "name": "stdout",
     "output_type": "stream",
     "text": [
      "float64\n"
     ]
    },
    {
     "data": {
      "text/html": [
       "<div>\n",
       "<style scoped>\n",
       "    .dataframe tbody tr th:only-of-type {\n",
       "        vertical-align: middle;\n",
       "    }\n",
       "\n",
       "    .dataframe tbody tr th {\n",
       "        vertical-align: top;\n",
       "    }\n",
       "\n",
       "    .dataframe thead th {\n",
       "        text-align: right;\n",
       "    }\n",
       "</style>\n",
       "<table border=\"1\" class=\"dataframe\">\n",
       "  <thead>\n",
       "    <tr style=\"text-align: right;\">\n",
       "      <th></th>\n",
       "      <th>ad_type</th>\n",
       "      <th>impressions</th>\n",
       "      <th>spend_usd</th>\n",
       "      <th>geo_targeting_included</th>\n",
       "    </tr>\n",
       "  </thead>\n",
       "  <tbody>\n",
       "    <tr>\n",
       "      <th>0</th>\n",
       "      <td>Video</td>\n",
       "      <td>10</td>\n",
       "      <td>550.0</td>\n",
       "      <td>Alaska</td>\n",
       "    </tr>\n",
       "    <tr>\n",
       "      <th>1</th>\n",
       "      <td>Image</td>\n",
       "      <td>10100</td>\n",
       "      <td>550.0</td>\n",
       "      <td>Nebraska</td>\n",
       "    </tr>\n",
       "    <tr>\n",
       "      <th>2</th>\n",
       "      <td>Image</td>\n",
       "      <td>1001</td>\n",
       "      <td>550.0</td>\n",
       "      <td>Nebraska</td>\n",
       "    </tr>\n",
       "    <tr>\n",
       "      <th>3</th>\n",
       "      <td>Text</td>\n",
       "      <td>10100</td>\n",
       "      <td>550.0</td>\n",
       "      <td>Oregon</td>\n",
       "    </tr>\n",
       "    <tr>\n",
       "      <th>4</th>\n",
       "      <td>Image</td>\n",
       "      <td>1001</td>\n",
       "      <td>550.0</td>\n",
       "      <td>Idaho</td>\n",
       "    </tr>\n",
       "  </tbody>\n",
       "</table>\n",
       "</div>"
      ],
      "text/plain": [
       "  ad_type  impressions  spend_usd geo_targeting_included\n",
       "0   Video           10      550.0                 Alaska\n",
       "1   Image        10100      550.0               Nebraska\n",
       "2   Image         1001      550.0               Nebraska\n",
       "3    Text        10100      550.0                 Oregon\n",
       "4   Image         1001      550.0                  Idaho"
      ]
     },
     "execution_count": 18,
     "metadata": {},
     "output_type": "execute_result"
    }
   ],
   "source": [
    "import pandas as pd\n",
    "import numpy as np\n",
    "\n",
    "# Function to clean spend_usd column\n",
    "def clean_spend(value):\n",
    "    value = value.replace(\"$\", \"\").replace(\",\", \"\").replace(\">\", \"\").replace(\"<\", \"\").strip()  # Remove symbols\n",
    "\n",
    "    # Handle cases where there's a range (e.g., \"100-1k\")\n",
    "    if \"-\" in value:\n",
    "        low, high = value.split(\"-\")\n",
    "        low = low.strip()\n",
    "        high = high.strip()\n",
    "\n",
    "        # Convert \"1k\" to \"1000\" for proper calculation\n",
    "        if \"k\" in low:\n",
    "            low = low.replace(\"k\", \"\")\n",
    "            low = float(low) * 1000  # Convert to number\n",
    "\n",
    "        if \"k\" in high:\n",
    "            high = high.replace(\"k\", \"\")\n",
    "            high = float(high) * 1000  # Convert to number\n",
    "\n",
    "        return (float(low) + float(high)) / 2  # Take the average of min & max\n",
    "\n",
    "    # Convert standalone \"1k\" to 1000\n",
    "    if \"k\" in value:\n",
    "        return float(value.replace(\"k\", \"\")) * 1000\n",
    "\n",
    "    return float(value)  # Convert to float for normal numbers\n",
    "\n",
    "# Apply cleaning function\n",
    "df[\"spend_usd\"] = df[\"spend_usd\"].apply(clean_spend)\n",
    "\n",
    "# Verify the data type\n",
    "print(df[\"spend_usd\"].dtype)  # Should print: float64\n",
    "df.head()\n"
   ]
  },
  {
   "cell_type": "code",
   "execution_count": 19,
   "metadata": {},
   "outputs": [
    {
     "data": {
      "text/html": [
       "<div>\n",
       "<style scoped>\n",
       "    .dataframe tbody tr th:only-of-type {\n",
       "        vertical-align: middle;\n",
       "    }\n",
       "\n",
       "    .dataframe tbody tr th {\n",
       "        vertical-align: top;\n",
       "    }\n",
       "\n",
       "    .dataframe thead th {\n",
       "        text-align: right;\n",
       "    }\n",
       "</style>\n",
       "<table border=\"1\" class=\"dataframe\">\n",
       "  <thead>\n",
       "    <tr style=\"text-align: right;\">\n",
       "      <th></th>\n",
       "      <th>ad_type</th>\n",
       "      <th>impressions</th>\n",
       "      <th>spend_usd</th>\n",
       "      <th>geo_targeting_included</th>\n",
       "      <th>CPM</th>\n",
       "    </tr>\n",
       "  </thead>\n",
       "  <tbody>\n",
       "    <tr>\n",
       "      <th>0</th>\n",
       "      <td>Video</td>\n",
       "      <td>10</td>\n",
       "      <td>550.0</td>\n",
       "      <td>Alaska</td>\n",
       "      <td>55000.000000</td>\n",
       "    </tr>\n",
       "    <tr>\n",
       "      <th>1</th>\n",
       "      <td>Image</td>\n",
       "      <td>10100</td>\n",
       "      <td>550.0</td>\n",
       "      <td>Nebraska</td>\n",
       "      <td>54.455446</td>\n",
       "    </tr>\n",
       "    <tr>\n",
       "      <th>2</th>\n",
       "      <td>Image</td>\n",
       "      <td>1001</td>\n",
       "      <td>550.0</td>\n",
       "      <td>Nebraska</td>\n",
       "      <td>549.450549</td>\n",
       "    </tr>\n",
       "    <tr>\n",
       "      <th>3</th>\n",
       "      <td>Text</td>\n",
       "      <td>10100</td>\n",
       "      <td>550.0</td>\n",
       "      <td>Oregon</td>\n",
       "      <td>54.455446</td>\n",
       "    </tr>\n",
       "    <tr>\n",
       "      <th>4</th>\n",
       "      <td>Image</td>\n",
       "      <td>1001</td>\n",
       "      <td>550.0</td>\n",
       "      <td>Idaho</td>\n",
       "      <td>549.450549</td>\n",
       "    </tr>\n",
       "  </tbody>\n",
       "</table>\n",
       "</div>"
      ],
      "text/plain": [
       "  ad_type  impressions  spend_usd geo_targeting_included           CPM\n",
       "0   Video           10      550.0                 Alaska  55000.000000\n",
       "1   Image        10100      550.0               Nebraska     54.455446\n",
       "2   Image         1001      550.0               Nebraska    549.450549\n",
       "3    Text        10100      550.0                 Oregon     54.455446\n",
       "4   Image         1001      550.0                  Idaho    549.450549"
      ]
     },
     "execution_count": 19,
     "metadata": {},
     "output_type": "execute_result"
    }
   ],
   "source": [
    "df[\"CPM\"] = (df[\"spend_usd\"] / df[\"impressions\"]) * 1000\n",
    "df.head()\n"
   ]
  },
  {
   "cell_type": "code",
   "execution_count": 20,
   "metadata": {},
   "outputs": [
    {
     "name": "stdout",
     "output_type": "stream",
     "text": [
      "  ad_type            CPM\n",
      "0   Image  239783.161081\n",
      "1    Text  377101.808127\n",
      "2   Video  372383.749891\n"
     ]
    }
   ],
   "source": [
    "cpm_by_ad_type = df.groupby(\"ad_type\")[\"CPM\"].mean().reset_index()\n",
    "print(cpm_by_ad_type)\n"
   ]
  },
  {
   "cell_type": "code",
   "execution_count": 21,
   "metadata": {},
   "outputs": [
    {
     "name": "stdout",
     "output_type": "stream",
     "text": [
      "   geo_targeting_included           CPM\n",
      "0                 Alabama  4.683959e+05\n",
      "1                  Alaska  2.182694e+05\n",
      "2                 Arizona  2.530550e+05\n",
      "3                Arkansas  2.417254e+05\n",
      "4              California  7.749484e+05\n",
      "5                Colorado  1.465605e+05\n",
      "6             Connecticut  2.472139e+04\n",
      "7                Delaware  1.374590e+05\n",
      "8                 Florida  1.071501e+06\n",
      "9                 Georgia  5.212151e+05\n",
      "10                 Hawaii  3.070378e+04\n",
      "11                  Idaho  1.666816e+05\n",
      "12               Illinois  8.039161e+05\n",
      "13                Indiana  1.557988e+05\n",
      "14                   Iowa  2.454971e+05\n",
      "15                 Kansas  1.551396e+05\n",
      "16               Kentucky  1.946054e+05\n",
      "17              Louisiana  1.606496e+05\n",
      "18                  Maine  1.468927e+05\n",
      "19               Maryland  1.498360e+05\n",
      "20          Massachusetts  1.665931e+05\n",
      "21               Michigan  3.268268e+05\n",
      "22              Minnesota  2.175537e+05\n",
      "23            Mississippi  1.703075e+05\n",
      "24               Missouri  1.557988e+05\n",
      "25                Montana  7.377443e+05\n",
      "26               Nebraska  1.581354e+05\n",
      "27                 Nevada  3.566241e+05\n",
      "28          New Hampshire  1.896090e+05\n",
      "29             New Jersey  7.896001e+05\n",
      "30             New Mexico  1.497235e+05\n",
      "31               New York  1.333822e+05\n",
      "32         North Carolina  8.457196e+05\n",
      "33           North Dakota  1.347543e+05\n",
      "34                   Ohio  5.852628e+05\n",
      "35               Oklahoma  1.504787e+05\n",
      "36                 Oregon  1.898174e+05\n",
      "37           Pennsylvania  5.413006e+05\n",
      "38           Rhode Island  1.196971e+04\n",
      "39         South Carolina  1.774872e+05\n",
      "40           South Dakota  1.682675e+05\n",
      "41              Tennessee  1.840649e+05\n",
      "42                  Texas  5.525211e+05\n",
      "43                   Utah  1.541186e+05\n",
      "44                Vermont  1.814231e+05\n",
      "45               Virginia  1.678138e+05\n",
      "46             Washington  1.538354e+05\n",
      "47          West Virginia  1.728385e+05\n",
      "48              Wisconsin  2.313698e+05\n",
      "49                Wyoming  1.492099e+05\n"
     ]
    }
   ],
   "source": [
    "cpm_by_geo = df.groupby(\"geo_targeting_included\")[\"CPM\"].mean().reset_index()\n",
    "print(cpm_by_geo)\n"
   ]
  },
  {
   "cell_type": "code",
   "execution_count": 22,
   "metadata": {},
   "outputs": [
    {
     "data": {
      "image/png": "[encoded data removed]",
      "text/plain": [
       "<Figure size 1000x500 with 1 Axes>"
      ]
     },
     "metadata": {},
     "output_type": "display_data"
    }
   ],
   "source": [
    "import seaborn as sns  \n",
    "import matplotlib.pyplot as plt  \n",
    "\n",
    "plt.figure(figsize=(10, 5))\n",
    "sns.barplot(x=\"ad_type\", y=\"CPM\", data=cpm_by_ad_type)\n",
    "plt.title(\"CPM by Ad Type\")\n",
    "plt.show()\n"
   ]
  },
  {
   "cell_type": "code",
   "execution_count": 23,
   "metadata": {},
   "outputs": [
    {
     "name": "stdout",
     "output_type": "stream",
     "text": [
      "Top 5 Cheapest Geo Locations for Ads:\n",
      "  geo_targeting_included            CPM\n",
      "0           Rhode Island   11969.710757\n",
      "1            Connecticut   24721.394942\n",
      "2                 Hawaii   30703.783016\n",
      "3               New York  133382.176862\n",
      "4           North Dakota  134754.297800\n"
     ]
    }
   ],
   "source": [
    "lowest_cpm_geo = df.groupby(\"geo_targeting_included\")[\"CPM\"].mean().nsmallest(5).reset_index()\n",
    "print(\"Top 5 Cheapest Geo Locations for Ads:\")\n",
    "print(lowest_cpm_geo)\n"
   ]
  },
  {
   "cell_type": "code",
   "execution_count": 25,
   "metadata": {},
   "outputs": [
    {
     "data": {
      "image/png": "[encoded data removed]",
      "text/plain": [
       "<Figure size 1000x500 with 1 Axes>"
      ]
     },
     "metadata": {},
     "output_type": "display_data"
    }
   ],
   "source": [
    "import seaborn as sns  \n",
    "import matplotlib.pyplot as plt  \n",
    "\n",
    "plt.figure(figsize=(10, 5))\n",
    "sns.barplot(x=\"geo_targeting_included\", y=\"CPM\", data=df)\n",
    "plt.xticks(rotation=90)  # Rotate x-axis labels if needed\n",
    "plt.title(\"CPM by Geo Location\")\n",
    "plt.show()\n"
   ]
  },
  {
   "cell_type": "code",
   "execution_count": 24,
   "metadata": {},
   "outputs": [
    {
     "name": "stdout",
     "output_type": "stream",
     "text": [
      "Most Expensive Ad Type:\n",
      "  ad_type            CPM\n",
      "0    Text  377101.808127\n"
     ]
    }
   ],
   "source": [
    "most_expensive_ad_type = df.groupby(\"ad_type\")[\"CPM\"].mean().nlargest(1).reset_index()\n",
    "print(\"Most Expensive Ad Type:\")\n",
    "print(most_expensive_ad_type)\n"
   ]
  },
  {
   "cell_type": "code",
   "execution_count": 26,
   "metadata": {},
   "outputs": [
    {
     "data": {
      "image/png": "[encoded data removed]",
      "text/plain": [
       "<Figure size 800x500 with 1 Axes>"
      ]
     },
     "metadata": {},
     "output_type": "display_data"
    }
   ],
   "source": [
    "plt.figure(figsize=(8, 5))\n",
    "sns.barplot(x=\"ad_type\", y=\"CPM\", data=df)\n",
    "plt.title(\"CPM by Ad Type\")\n",
    "plt.show()\n"
   ]
  },
  {
   "cell_type": "code",
   "execution_count": null,
   "metadata": {},
   "outputs": [],
   "source": []
  }
 ],
 "metadata": {
  "kernelspec": {
   "display_name": "Python 3",
   "language": "python",
   "name": "python3"
  },
  "language_info": {
   "codemirror_mode": {
    "name": "ipython",
    "version": 3
   },
   "file_extension": ".py",
   "mimetype": "text/x-python",
   "name": "python",
   "nbconvert_exporter": "python",
   "pygments_lexer": "ipython3",
   "version": "3.12.7"
  }
 },
 "nbformat": 4,
 "nbformat_minor": 2
}
